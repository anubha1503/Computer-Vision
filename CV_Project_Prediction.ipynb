{
 "cells": [
  {
   "cell_type": "code",
   "execution_count": 1,
   "id": "36bed911",
   "metadata": {},
   "outputs": [],
   "source": [
    "from tensorflow.keras.preprocessing import image\n",
    "import numpy as np\n",
    "import pickle\n",
    "import cv2\n",
    "import os\n",
    "from tensorflow.keras.models import load_model"
   ]
  },
  {
   "cell_type": "markdown",
   "id": "85ef3f28",
   "metadata": {},
   "source": [
    "Capturing image from webcam using cv2"
   ]
  },
  {
   "cell_type": "code",
   "execution_count": 17,
   "id": "b11c8290",
   "metadata": {},
   "outputs": [],
   "source": [
    "cap=cv2.VideoCapture(0)\n",
    "while True:\n",
    "    flag,frame=cap.read()\n",
    "    cv2.imshow('img1',frame)\n",
    "    cv2.imwrite('img1.png',frame)\n",
    "    if cv2.waitKey(0) & 0xFF == ord('q'):\n",
    "        break\n",
    "cap.release()\n",
    "cv2.destroyAllWindows()"
   ]
  },
  {
   "cell_type": "code",
   "execution_count": 3,
   "id": "ec6ede9e",
   "metadata": {},
   "outputs": [],
   "source": [
    "cap=cv2.VideoCapture(0)\n",
    "\n",
    "while True:\n",
    "    flag,frame=cap.read()\n",
    "    cv2.imshow('img2',frame)\n",
    "    cv2.imwrite('img2.png',frame)\n",
    "    if cv2.waitKey(0) & 0xFF == ord('q'):\n",
    "        break\n",
    "cap.release()\n",
    "cv2.destroyAllWindows()"
   ]
  },
  {
   "cell_type": "code",
   "execution_count": 4,
   "id": "dbe7608d",
   "metadata": {},
   "outputs": [
    {
     "name": "stdout",
     "output_type": "stream",
     "text": [
      "C:\\Users\\Dell\n"
     ]
    }
   ],
   "source": [
    "print(os.getcwd())"
   ]
  },
  {
   "cell_type": "markdown",
   "id": "66e0519d",
   "metadata": {},
   "source": [
    "Loading the trained CNN model "
   ]
  },
  {
   "cell_type": "code",
   "execution_count": 5,
   "id": "0b53419d",
   "metadata": {},
   "outputs": [],
   "source": [
    "model=load_model('cnn_model.h5')"
   ]
  },
  {
   "cell_type": "markdown",
   "id": "771e391c",
   "metadata": {},
   "source": [
    "Defining a function for predicting whether the image has mask or no mask"
   ]
  },
  {
   "cell_type": "code",
   "execution_count": 6,
   "id": "4a1d7157",
   "metadata": {},
   "outputs": [],
   "source": [
    "def predict_image(img_path):\n",
    "    \n",
    "    img=image.load_img(img_path,target_size=(180,180))\n",
    "    img_array=image.img_to_array(img)\n",
    "    img_batch=np.expand_dims(img_array,axis=0)\n",
    "    result=model.predict(img_batch)\n",
    "    if result>=0.5:\n",
    "        return 'No Mask'\n",
    "    else:\n",
    "        return 'Mask'\n",
    "    "
   ]
  },
  {
   "cell_type": "code",
   "execution_count": 18,
   "id": "7e9714ba",
   "metadata": {},
   "outputs": [
    {
     "name": "stdout",
     "output_type": "stream",
     "text": [
      "1/1 [==============================] - 0s 242ms/step\n"
     ]
    },
    {
     "data": {
      "text/plain": [
       "'No Mask'"
      ]
     },
     "execution_count": 18,
     "metadata": {},
     "output_type": "execute_result"
    }
   ],
   "source": [
    "predict_image('img1.png')"
   ]
  },
  {
   "cell_type": "code",
   "execution_count": 8,
   "id": "f566bbe3",
   "metadata": {},
   "outputs": [
    {
     "name": "stdout",
     "output_type": "stream",
     "text": [
      "1/1 [==============================] - 0s 234ms/step\n"
     ]
    },
    {
     "data": {
      "text/plain": [
       "'Mask'"
      ]
     },
     "execution_count": 8,
     "metadata": {},
     "output_type": "execute_result"
    }
   ],
   "source": [
    "predict_image('img2.png')"
   ]
  },
  {
   "cell_type": "markdown",
   "id": "9607a1ea",
   "metadata": {},
   "source": [
    "The predictions were accurate on both masked and unmasked photos"
   ]
  },
  {
   "cell_type": "code",
   "execution_count": null,
   "id": "37f83a76",
   "metadata": {},
   "outputs": [],
   "source": [
    "We used VGG16 Network for training the model for predicting the results "
   ]
  },
  {
   "cell_type": "code",
   "execution_count": null,
   "id": "cc1e9097",
   "metadata": {},
   "outputs": [],
   "source": []
  },
  {
   "cell_type": "code",
   "execution_count": null,
   "id": "7729a0fe",
   "metadata": {},
   "outputs": [],
   "source": []
  },
  {
   "cell_type": "code",
   "execution_count": null,
   "id": "5eb16286",
   "metadata": {},
   "outputs": [],
   "source": []
  },
  {
   "cell_type": "code",
   "execution_count": null,
   "id": "9258ed36",
   "metadata": {},
   "outputs": [],
   "source": []
  },
  {
   "cell_type": "code",
   "execution_count": null,
   "id": "2a941834",
   "metadata": {},
   "outputs": [],
   "source": []
  }
 ],
 "metadata": {
  "kernelspec": {
   "display_name": "Python 3 (ipykernel)",
   "language": "python",
   "name": "python3"
  },
  "language_info": {
   "codemirror_mode": {
    "name": "ipython",
    "version": 3
   },
   "file_extension": ".py",
   "mimetype": "text/x-python",
   "name": "python",
   "nbconvert_exporter": "python",
   "pygments_lexer": "ipython3",
   "version": "3.9.12"
  }
 },
 "nbformat": 4,
 "nbformat_minor": 5
}
