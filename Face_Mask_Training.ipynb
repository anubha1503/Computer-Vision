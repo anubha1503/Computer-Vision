{
  "nbformat": 4,
  "nbformat_minor": 0,
  "metadata": {
    "colab": {
      "provenance": [],
      "gpuType": "T4"
    },
    "kernelspec": {
      "name": "python3",
      "display_name": "Python 3"
    },
    "language_info": {
      "name": "python"
    },
    "accelerator": "GPU",
    "gpuClass": "standard"
  },
  "cells": [
    {
      "cell_type": "markdown",
      "source": [
        "Importing necessary libraries"
      ],
      "metadata": {
        "id": "39O95dJnQWZ7"
      }
    },
    {
      "cell_type": "code",
      "source": [
        "from tensorflow.keras.layers import Flatten,Dense,Conv2D,MaxPooling2D,Rescaling\n",
        "from tensorflow.keras.models import Sequential\n",
        "import pandas as pd\n",
        "import numpy as np\n",
        "\n",
        "from tensorflow.keras.utils import image_dataset_from_directory"
      ],
      "metadata": {
        "id": "wsWcmMto7Vuw"
      },
      "execution_count": 2,
      "outputs": []
    },
    {
      "cell_type": "markdown",
      "source": [
        "Creating a train and a test data file using image_dataset_from_directory"
      ],
      "metadata": {
        "id": "R6z1OIiYQbvn"
      }
    },
    {
      "cell_type": "code",
      "source": [
        "train_path='/content/drive/MyDrive/Face Mask Dataset/Train'\n",
        "test_path='/content/drive/MyDrive/Face Mask Dataset/Test'\n",
        "\n",
        "train_data=image_dataset_from_directory(\n",
        "    directory=train_path,\n",
        "    image_size=(180,180),\n",
        "    batch_size=128\n",
        ")\n",
        "test_data=image_dataset_from_directory(\n",
        "    directory=test_path,\n",
        "    image_size=(180,180),\n",
        "    batch_size=128\n",
        ")"
      ],
      "metadata": {
        "colab": {
          "base_uri": "https://localhost:8080/",
          "height": 0
        },
        "id": "ySSoOvfW7VxK",
        "outputId": "9cea5f2d-fe7a-4bd2-c3e0-c2c8e791d180"
      },
      "execution_count": 3,
      "outputs": [
        {
          "output_type": "stream",
          "name": "stdout",
          "text": [
            "Found 9776 files belonging to 2 classes.\n",
            "Found 979 files belonging to 2 classes.\n"
          ]
        }
      ]
    },
    {
      "cell_type": "code",
      "source": [
        "train_data.class_names"
      ],
      "metadata": {
        "colab": {
          "base_uri": "https://localhost:8080/",
          "height": 0
        },
        "id": "bYNndcWM7VzH",
        "outputId": "5a9ad642-701a-4ee9-d30b-4f80931e5f60"
      },
      "execution_count": 3,
      "outputs": [
        {
          "output_type": "execute_result",
          "data": {
            "text/plain": [
              "['WithMask', 'WithoutMask']"
            ]
          },
          "metadata": {},
          "execution_count": 3
        }
      ]
    },
    {
      "cell_type": "markdown",
      "source": [
        "Training the model using CNN"
      ],
      "metadata": {
        "id": "NsrqzmnY85PS"
      }
    },
    {
      "cell_type": "code",
      "source": [
        "model1=Sequential()\n",
        "model1.add(Rescaling(1./255,input_shape=(180,180,3)))\n",
        "model1.add(Conv2D(16,(4,4),padding='same'))\n",
        "model1.add(MaxPooling2D())\n",
        "model1.add(Conv2D(64,(4,4),padding='same'))\n",
        "model1.add(MaxPooling2D())\n",
        "model1.add(Flatten())\n",
        "model1.add(Dense(128,activation='relu'))\n",
        "model1.add(Dense(1,activation='sigmoid'))\n",
        "\n",
        "model1.compile(optimizer='adam',loss='binary_crossentropy',metrics=['accuracy'])\n",
        "\n",
        "model1.fit(train_data,validation_data=test_data,epochs=5)"
      ],
      "metadata": {
        "colab": {
          "base_uri": "https://localhost:8080/",
          "height": 0
        },
        "id": "wuBh-12-Txk6",
        "outputId": "d3d92648-8f63-45f3-d206-f85944e2aad7"
      },
      "execution_count": 7,
      "outputs": [
        {
          "output_type": "stream",
          "name": "stdout",
          "text": [
            "Epoch 1/5\n",
            "51/51 [==============================] - 691s 11s/step - loss: 0.7322 - accuracy: 0.8534 - val_loss: 0.2116 - val_accuracy: 0.9438\n",
            "Epoch 2/5\n",
            "51/51 [==============================] - 20s 345ms/step - loss: 0.1322 - accuracy: 0.9507 - val_loss: 0.1505 - val_accuracy: 0.9551\n",
            "Epoch 3/5\n",
            "51/51 [==============================] - 21s 363ms/step - loss: 0.0878 - accuracy: 0.9694 - val_loss: 0.2264 - val_accuracy: 0.9091\n",
            "Epoch 4/5\n",
            "51/51 [==============================] - 20s 336ms/step - loss: 0.0585 - accuracy: 0.9821 - val_loss: 0.1216 - val_accuracy: 0.9714\n",
            "Epoch 5/5\n",
            "51/51 [==============================] - 21s 377ms/step - loss: 0.0538 - accuracy: 0.9801 - val_loss: 0.1430 - val_accuracy: 0.9663\n"
          ]
        },
        {
          "output_type": "execute_result",
          "data": {
            "text/plain": [
              "<keras.callbacks.History at 0x7f5a402b19f0>"
            ]
          },
          "metadata": {},
          "execution_count": 7
        }
      ]
    },
    {
      "cell_type": "markdown",
      "source": [
        "The accuracy was good in this model 98% and test accuracy 96%"
      ],
      "metadata": {
        "id": "93CL-qqVtRcb"
      }
    },
    {
      "cell_type": "markdown",
      "source": [
        "Data Augmentation"
      ],
      "metadata": {
        "id": "6f2aqhclALGv"
      }
    },
    {
      "cell_type": "code",
      "source": [
        "from tensorflow.keras.layers import RandomFlip,RandomRotation,RandomZoom\n"
      ],
      "metadata": {
        "id": "sLg2qm7H7V4K"
      },
      "execution_count": 8,
      "outputs": []
    },
    {
      "cell_type": "markdown",
      "source": [
        "Training the model using CNN and additional layers"
      ],
      "metadata": {
        "id": "hZQglKA2QwYE"
      }
    },
    {
      "cell_type": "code",
      "source": [
        "model2=Sequential()\n",
        "model2.add(RandomFlip('horizontal',input_shape=(180,180,3)))\n",
        "model2.add(RandomRotation(0.1))\n",
        "model2.add(RandomZoom(0.1))\n",
        "model2.add(Rescaling(1./255))\n",
        "model2.add(Conv2D(16,(3,3),padding='same'))\n",
        "model2.add(MaxPooling2D())\n",
        "model2.add(Conv2D(64,(3,3),padding='same'))\n",
        "model2.add(MaxPooling2D())\n",
        "model2.add(Flatten())\n",
        "model2.add(Dense(128,activation='relu'))\n",
        "model2.add(Dense(1,activation='sigmoid'))\n",
        "\n",
        "model2.compile(optimizer='adam',loss='binary_crossentropy',metrics=['accuracy'])\n",
        "model2.fit(train_data,validation_data=test_data,epochs=5)\n",
        "\n"
      ],
      "metadata": {
        "colab": {
          "base_uri": "https://localhost:8080/",
          "height": 0
        },
        "id": "-Ber77zL7V6f",
        "outputId": "5afba231-3df7-4ea6-c3fe-5151da39333d"
      },
      "execution_count": 10,
      "outputs": [
        {
          "output_type": "stream",
          "name": "stdout",
          "text": [
            "Epoch 1/5\n",
            "51/51 [==============================] - 23s 349ms/step - loss: 1.3732 - accuracy: 0.7641 - val_loss: 0.3622 - val_accuracy: 0.8764\n",
            "Epoch 2/5\n",
            "51/51 [==============================] - 20s 346ms/step - loss: 0.2603 - accuracy: 0.8946 - val_loss: 0.2606 - val_accuracy: 0.9122\n",
            "Epoch 3/5\n",
            "51/51 [==============================] - 21s 349ms/step - loss: 0.2037 - accuracy: 0.9162 - val_loss: 0.2311 - val_accuracy: 0.9203\n",
            "Epoch 4/5\n",
            "51/51 [==============================] - 20s 334ms/step - loss: 0.1726 - accuracy: 0.9344 - val_loss: 0.1969 - val_accuracy: 0.9305\n",
            "Epoch 5/5\n",
            "51/51 [==============================] - 22s 359ms/step - loss: 0.1517 - accuracy: 0.9452 - val_loss: 0.1453 - val_accuracy: 0.9530\n"
          ]
        },
        {
          "output_type": "execute_result",
          "data": {
            "text/plain": [
              "<keras.callbacks.History at 0x7f59d01992d0>"
            ]
          },
          "metadata": {},
          "execution_count": 10
        }
      ]
    },
    {
      "cell_type": "markdown",
      "source": [
        "Accuracy dropped a little after using additional layers \n",
        "accuracy=94% and test accuracy=95%"
      ],
      "metadata": {
        "id": "rzDyVV_mtk5I"
      }
    },
    {
      "cell_type": "markdown",
      "source": [
        "VGG16"
      ],
      "metadata": {
        "id": "4Qr-zr483KD_"
      }
    },
    {
      "cell_type": "code",
      "source": [
        "from tensorflow.keras.applications import VGG16"
      ],
      "metadata": {
        "id": "MaNf96aM7V8k"
      },
      "execution_count": 4,
      "outputs": []
    },
    {
      "cell_type": "code",
      "source": [
        "vgg16=VGG16(weights='imagenet',include_top=False)\n",
        "vgg16.summary()"
      ],
      "metadata": {
        "colab": {
          "base_uri": "https://localhost:8080/",
          "height": 0
        },
        "id": "GdsUzRqz7V-y",
        "outputId": "22e20176-6e4a-4c8d-9681-fb38ef8d9385"
      },
      "execution_count": 5,
      "outputs": [
        {
          "output_type": "stream",
          "name": "stdout",
          "text": [
            "Downloading data from https://storage.googleapis.com/tensorflow/keras-applications/vgg16/vgg16_weights_tf_dim_ordering_tf_kernels_notop.h5\n",
            "58889256/58889256 [==============================] - 0s 0us/step\n",
            "Model: \"vgg16\"\n",
            "_________________________________________________________________\n",
            " Layer (type)                Output Shape              Param #   \n",
            "=================================================================\n",
            " input_1 (InputLayer)        [(None, None, None, 3)]   0         \n",
            "                                                                 \n",
            " block1_conv1 (Conv2D)       (None, None, None, 64)    1792      \n",
            "                                                                 \n",
            " block1_conv2 (Conv2D)       (None, None, None, 64)    36928     \n",
            "                                                                 \n",
            " block1_pool (MaxPooling2D)  (None, None, None, 64)    0         \n",
            "                                                                 \n",
            " block2_conv1 (Conv2D)       (None, None, None, 128)   73856     \n",
            "                                                                 \n",
            " block2_conv2 (Conv2D)       (None, None, None, 128)   147584    \n",
            "                                                                 \n",
            " block2_pool (MaxPooling2D)  (None, None, None, 128)   0         \n",
            "                                                                 \n",
            " block3_conv1 (Conv2D)       (None, None, None, 256)   295168    \n",
            "                                                                 \n",
            " block3_conv2 (Conv2D)       (None, None, None, 256)   590080    \n",
            "                                                                 \n",
            " block3_conv3 (Conv2D)       (None, None, None, 256)   590080    \n",
            "                                                                 \n",
            " block3_pool (MaxPooling2D)  (None, None, None, 256)   0         \n",
            "                                                                 \n",
            " block4_conv1 (Conv2D)       (None, None, None, 512)   1180160   \n",
            "                                                                 \n",
            " block4_conv2 (Conv2D)       (None, None, None, 512)   2359808   \n",
            "                                                                 \n",
            " block4_conv3 (Conv2D)       (None, None, None, 512)   2359808   \n",
            "                                                                 \n",
            " block4_pool (MaxPooling2D)  (None, None, None, 512)   0         \n",
            "                                                                 \n",
            " block5_conv1 (Conv2D)       (None, None, None, 512)   2359808   \n",
            "                                                                 \n",
            " block5_conv2 (Conv2D)       (None, None, None, 512)   2359808   \n",
            "                                                                 \n",
            " block5_conv3 (Conv2D)       (None, None, None, 512)   2359808   \n",
            "                                                                 \n",
            " block5_pool (MaxPooling2D)  (None, None, None, 512)   0         \n",
            "                                                                 \n",
            "=================================================================\n",
            "Total params: 14,714,688\n",
            "Trainable params: 14,714,688\n",
            "Non-trainable params: 0\n",
            "_________________________________________________________________\n"
          ]
        }
      ]
    },
    {
      "cell_type": "markdown",
      "source": [
        "Using VGG16 network to train our model"
      ],
      "metadata": {
        "id": "rBP53o5YQ6VF"
      }
    },
    {
      "cell_type": "markdown",
      "source": [
        "Keeping include_top=False because the VGG16 model has softmax function as the output layer activation function"
      ],
      "metadata": {
        "id": "FbbLpvwdRXQs"
      }
    },
    {
      "cell_type": "code",
      "source": [
        "model3=Sequential()\n",
        "model3.add(Rescaling(1./255,input_shape=(180,180,3)))\n",
        "model3.add(vgg16)\n",
        "model3.add(Flatten())\n",
        "model3.add(Dense(128,activation='relu'))\n",
        "model3.add(Dense(1,activation='sigmoid'))\n",
        "vgg16.trainable=False\n",
        "\n",
        "model3.compile(optimizer='adam',metrics=['accuracy'],loss='binary_crossentropy')\n",
        "\n",
        "model3.fit(train_data,validation_data=test_data,epochs=5)"
      ],
      "metadata": {
        "colab": {
          "base_uri": "https://localhost:8080/",
          "height": 0
        },
        "id": "3nxU8jV07WBE",
        "outputId": "eda326c1-f0f5-48ee-f4bd-26e2832310ac"
      },
      "execution_count": 6,
      "outputs": [
        {
          "output_type": "stream",
          "name": "stdout",
          "text": [
            "Epoch 1/5\n",
            "77/77 [==============================] - 1056s 12s/step - loss: 0.1635 - accuracy: 0.9438 - val_loss: 0.0337 - val_accuracy: 0.9888\n",
            "Epoch 2/5\n",
            "77/77 [==============================] - 33s 405ms/step - loss: 0.0204 - accuracy: 0.9931 - val_loss: 0.0245 - val_accuracy: 0.9959\n",
            "Epoch 3/5\n",
            "77/77 [==============================] - 35s 429ms/step - loss: 0.0102 - accuracy: 0.9970 - val_loss: 0.0184 - val_accuracy: 0.9969\n",
            "Epoch 4/5\n",
            "77/77 [==============================] - 36s 435ms/step - loss: 0.0068 - accuracy: 0.9985 - val_loss: 0.0198 - val_accuracy: 0.9969\n",
            "Epoch 5/5\n",
            "77/77 [==============================] - 36s 439ms/step - loss: 0.0051 - accuracy: 0.9989 - val_loss: 0.0144 - val_accuracy: 0.9969\n"
          ]
        },
        {
          "output_type": "execute_result",
          "data": {
            "text/plain": [
              "<keras.callbacks.History at 0x7fece980feb0>"
            ]
          },
          "metadata": {},
          "execution_count": 6
        }
      ]
    },
    {
      "cell_type": "markdown",
      "source": [
        "We got a very good accuracy by using VGG16 network \n",
        "accuracy 99% and test accuracy =99%\n",
        "\n",
        "So we'll be saving this model for our predictions\n"
      ],
      "metadata": {
        "id": "AJJIOYiEtO0-"
      }
    },
    {
      "cell_type": "markdown",
      "source": [
        "Saving the model"
      ],
      "metadata": {
        "id": "Fej-PGJh3mpW"
      }
    },
    {
      "cell_type": "code",
      "source": [
        "model3.save('cnn_model.h5')"
      ],
      "metadata": {
        "id": "aUf3U41f7WKV"
      },
      "execution_count": 8,
      "outputs": []
    },
    {
      "cell_type": "code",
      "source": [],
      "metadata": {
        "id": "bMTUico07WMk"
      },
      "execution_count": null,
      "outputs": []
    },
    {
      "cell_type": "code",
      "source": [],
      "metadata": {
        "id": "E8vDNW7G7WOZ"
      },
      "execution_count": null,
      "outputs": []
    }
  ]
}